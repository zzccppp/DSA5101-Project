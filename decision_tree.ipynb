{
 "cells": [
  {
   "cell_type": "code",
   "execution_count": 34,
   "metadata": {},
   "outputs": [],
   "source": [
    "import numpy as np\n",
    "import pandas as pd\n",
    "import matplotlib.pyplot as plt\n",
    "from sklearn.preprocessing import LabelEncoder\n",
    "\n",
    "train_data = pd.read_csv(\"./data/traininingdata.txt\", sep=\";\")\n",
    "test_data = pd.read_csv(\"./data/testdata.txt\", sep=\";\")\n",
    "\n",
    "# 删除某些列\n",
    "filtered_column_name = []\n",
    "train_data = train_data.drop(filtered_column_name, axis=1)\n",
    "test_data = test_data.drop(filtered_column_name, axis=1)\n",
    "\n",
    "\n",
    "# 保存原始的y值，因为我们只想对特征进行one-hot编码，而不是目标变量\n",
    "y = train_data.iloc[:, -1].values\n",
    "y_test = test_data.iloc[:, -1].values\n",
    "\n",
    "# 将目标变量转换为0和1\n",
    "le = LabelEncoder()\n",
    "y = le.fit_transform(y)\n",
    "y_test = le.transform(y_test)\n",
    "\n",
    "# 删除目标变量列，以便我们可以只对特征进行one-hot编码\n",
    "train_data = train_data.iloc[:, :-1]\n",
    "test_data = test_data.iloc[:, :-1]\n",
    "\n",
    "# 使用pandas的get_dummies函数来进行one-hot编码\n",
    "train_data = pd.get_dummies(train_data, drop_first=True)\n",
    "test_data = pd.get_dummies(test_data, drop_first=True)\n",
    "\n",
    "# 转换为numpy数组并进行类型转换\n",
    "train_data = train_data.values.astype(np.float32)\n",
    "test_data = test_data.values.astype(np.float32)\n",
    "\n",
    "# 提取特征\n",
    "X = train_data\n",
    "X_test = test_data\n",
    "\n",
    "# 特征缩放\n",
    "# X = (X - X.mean(axis=0)) / X.std(axis=0)\n",
    "# X_test = (X_test - X_test.mean(axis=0)) / X_test.std(axis=0)\n",
    "\n",
    "# from sklearn.utils import resample\n",
    "\n",
    "# # 根据类别标签分离出正例和负例\n",
    "# positive = train_data[y == 1]\n",
    "# negative = train_data[y == 0]\n",
    "\n",
    "# # 上采样正例\n",
    "# positive_upsampled = resample(\n",
    "#     positive,\n",
    "#     replace=True,  # 样本可以被多次抽样\n",
    "#     n_samples=len(negative),  # 将正例的数量增加到与负例相同\n",
    "#     random_state=42,\n",
    "# )  # 随机数生成器种子\n",
    "\n",
    "# # 合并上采样后的负例和原来的正例\n",
    "# upsampled = np.vstack([positive_upsampled, negative])\n",
    "# X_upsampled = upsampled[:, :-1]\n",
    "# y_upsampled = upsampled[:, -1]\n",
    "# X_upsampled = (X_upsampled - X_upsampled.mean(axis=0)) / X_upsampled.std(axis=0)\n",
    "\n",
    "# # 下采样负例\n",
    "# negative_downsampled = resample(\n",
    "#     negative,\n",
    "#     replace=False,  # 样本不能被多次抽样\n",
    "#     n_samples=len(positive),  # 将负例的数量减少到与正例相同\n",
    "#     random_state=42,\n",
    "# )  # 随机数生成器种子\n",
    "\n",
    "# # 合并下采样后的正例和原来的负例\n",
    "# downsampled = np.vstack([negative_downsampled, positive])\n",
    "# X_downsampled = downsampled[:, :-1]\n",
    "# y_downsampled = downsampled[:, -1]\n",
    "# X_downsampled = (X_downsampled - X_downsampled.mean(axis=0)) / X_downsampled.std(axis=0)\n",
    "\n",
    "# # 此时你可以选择使用 X_upsampled, y_upsampled 或 X_downsampled, y_downsampled 来进行模型的训练"
   ]
  },
  {
   "cell_type": "code",
   "execution_count": 35,
   "metadata": {},
   "outputs": [
    {
     "data": {
      "text/plain": [
       "0.9037929890523057"
      ]
     },
     "execution_count": 35,
     "metadata": {},
     "output_type": "execute_result"
    }
   ],
   "source": [
    "from sklearn.ensemble import RandomForestClassifier\n",
    "\n",
    "clf = RandomForestClassifier()\n",
    "clf.fit(X, y)\n",
    "\n",
    "# y_pred = clf.predict(X_test)\n",
    "\n",
    "# from sklearn.metrics import accuracy_score\n",
    "\n",
    "# print(\"accuracy: \", accuracy_score(y_test, y_pred))\n",
    "\n",
    "clf.score(X_test, y_test)"
   ]
  },
  {
   "cell_type": "code",
   "execution_count": 36,
   "metadata": {},
   "outputs": [
    {
     "data": {
      "text/plain": [
       "{'fit_time': array([0.55571198, 0.53867579, 0.5521965 , 0.55686951, 0.5589056 ]),\n",
       " 'score_time': array([0.01799989, 0.01900792, 0.01800346, 0.01853299, 0.01799989]),\n",
       " 'test_accuracy': array([0.89718076, 0.90049751, 0.90381426, 0.90431416, 0.8949115 ]),\n",
       " 'test_precision': array([0.63265306, 0.64035088, 0.69      , 0.68627451, 0.60194175]),\n",
       " 'test_recall': array([0.29245283, 0.34433962, 0.3254717 , 0.33175355, 0.29383886]),\n",
       " 'test_f1': array([0.4       , 0.44785276, 0.44230769, 0.44728435, 0.39490446])}"
      ]
     },
     "execution_count": 36,
     "metadata": {},
     "output_type": "execute_result"
    }
   ],
   "source": [
    "from sklearn.model_selection import cross_validate\n",
    "from sklearn import metrics\n",
    "\n",
    "cross_validate(\n",
    "    clf, X_test, y_test, cv=5, scoring=[\"accuracy\", \"precision\", \"recall\", \"f1\"]\n",
    ")"
   ]
  }
 ],
 "metadata": {
  "kernelspec": {
   "display_name": "proj-dsa5101-uqMMLh6A-py3.9",
   "language": "python",
   "name": "python3"
  },
  "language_info": {
   "codemirror_mode": {
    "name": "ipython",
    "version": 3
   },
   "file_extension": ".py",
   "mimetype": "text/x-python",
   "name": "python",
   "nbconvert_exporter": "python",
   "pygments_lexer": "ipython3",
   "version": "3.9.13"
  },
  "orig_nbformat": 4
 },
 "nbformat": 4,
 "nbformat_minor": 2
}

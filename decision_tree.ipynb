{
 "cells": [
  {
   "cell_type": "code",
   "execution_count": 2,
   "metadata": {},
   "outputs": [],
   "source": [
    "import numpy as np\n",
    "import pandas as pd\n",
    "import matplotlib.pyplot as plt\n",
    "from sklearn.preprocessing import LabelEncoder\n",
    "\n",
    "train_data = pd.read_csv(\"./data/traininingdata.txt\", sep=\";\")\n",
    "test_data = pd.read_csv(\"./data/testdata.txt\", sep=\";\")\n",
    "\n",
    "label_encoders = {}\n",
    "\n",
    "for column in train_data.columns:\n",
    "    if train_data[column].dtype == \"object\":\n",
    "        le = LabelEncoder()\n",
    "        train_data[column] = le.fit_transform(train_data[column])\n",
    "        label_encoders[column] = le\n",
    "\n",
    "\n",
    "for column in test_data.columns:\n",
    "    if test_data[column].dtype == \"object\":\n",
    "        le = label_encoders[column]\n",
    "        test_data[column] = le.transform(test_data[column])\n",
    "\n",
    "\n",
    "train_data = train_data.values\n",
    "train_data = train_data.astype(np.float32)\n",
    "X = train_data[:, :-1]\n",
    "y = train_data[:, -1]\n",
    "X = (X - X.mean(axis=0)) / X.std(axis=0)\n",
    "\n",
    "test_data = test_data.values\n",
    "test_data = test_data.astype(np.float32)\n",
    "X_test = test_data[:, :-1]\n",
    "# normalize data\n",
    "X_test = (X_test - X_test.mean(axis=0)) / X_test.std(axis=0)\n",
    "y_test = test_data[:, -1]"
   ]
  },
  {
   "cell_type": "code",
   "execution_count": 3,
   "metadata": {},
   "outputs": [
    {
     "data": {
      "text/plain": [
       "0.9027977441114674"
      ]
     },
     "execution_count": 3,
     "metadata": {},
     "output_type": "execute_result"
    }
   ],
   "source": [
    "from sklearn.ensemble import RandomForestClassifier\n",
    "\n",
    "clf = RandomForestClassifier()\n",
    "clf.fit(X, y)\n",
    "\n",
    "# y_pred = clf.predict(X_test)\n",
    "\n",
    "# from sklearn.metrics import accuracy_score\n",
    "\n",
    "# print(\"accuracy: \", accuracy_score(y_test, y_pred))\n",
    "\n",
    "clf.score(X_test, y_test)"
   ]
  },
  {
   "cell_type": "code",
   "execution_count": 4,
   "metadata": {},
   "outputs": [
    {
     "data": {
      "text/plain": [
       "{'fit_time': array([0.49189305, 0.48803997, 0.50146198, 0.51040411, 0.510921  ]),\n",
       " 'score_time': array([0.0175662 , 0.0179739 , 0.01808906, 0.01772785, 0.01724911]),\n",
       " 'test_accuracy': array([0.89386401, 0.89883914, 0.89939193, 0.89933628, 0.89325221]),\n",
       " 'test_precision': array([0.59090909, 0.61068702, 0.62096774, 0.62831858, 0.57377049]),\n",
       " 'test_recall': array([0.30660377, 0.37735849, 0.36320755, 0.33649289, 0.33175355]),\n",
       " 'test_f1': array([0.40372671, 0.4664723 , 0.45833333, 0.4382716 , 0.42042042])}"
      ]
     },
     "execution_count": 4,
     "metadata": {},
     "output_type": "execute_result"
    }
   ],
   "source": [
    "from sklearn.model_selection import cross_validate\n",
    "from sklearn import metrics\n",
    "\n",
    "cross_validate(\n",
    "    clf, X_test, y_test, cv=5, scoring=[\"accuracy\", \"precision\", \"recall\", \"f1\"]\n",
    ")"
   ]
  }
 ],
 "metadata": {
  "kernelspec": {
   "display_name": "proj-dsa5101-uqMMLh6A-py3.9",
   "language": "python",
   "name": "python3"
  },
  "language_info": {
   "codemirror_mode": {
    "name": "ipython",
    "version": 3
   },
   "file_extension": ".py",
   "mimetype": "text/x-python",
   "name": "python",
   "nbconvert_exporter": "python",
   "pygments_lexer": "ipython3",
   "version": "3.9.17"
  },
  "orig_nbformat": 4
 },
 "nbformat": 4,
 "nbformat_minor": 2
}

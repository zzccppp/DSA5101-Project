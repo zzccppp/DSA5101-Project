{
 "cells": [
  {
   "cell_type": "code",
   "execution_count": 4,
   "metadata": {},
   "outputs": [],
   "source": [
    "import numpy as np\n",
    "import pandas as pd\n",
    "import matplotlib.pyplot as plt\n",
    "from sklearn.preprocessing import LabelEncoder\n",
    "\n",
    "train_data = pd.read_csv(\"./data/traininingdata.txt\", sep=\";\")\n",
    "test_data = pd.read_csv(\"./data/testdata.txt\", sep=\";\")\n",
    "\n",
    "# 删除某些列\n",
    "filtered_column_name = []\n",
    "train_data = train_data.drop(filtered_column_name, axis=1)\n",
    "test_data = test_data.drop(filtered_column_name, axis=1)\n",
    "\n",
    "# 保存原始的y值，因为我们只想对特征进行one-hot编码，而不是目标变量\n",
    "y = train_data.iloc[:, -1].values\n",
    "y_test = test_data.iloc[:, -1].values\n",
    "\n",
    "# 将目标变量转换为0和1\n",
    "le = LabelEncoder()\n",
    "y = le.fit_transform(y)\n",
    "y_test = le.transform(y_test)\n",
    "\n",
    "# 删除目标变量列，以便我们可以只对特征进行one-hot编码\n",
    "train_data = train_data.iloc[:, :-1]\n",
    "test_data = test_data.iloc[:, :-1]\n",
    "\n",
    "# 使用pandas的get_dummies函数来进行one-hot编码\n",
    "train_data = pd.get_dummies(train_data, drop_first=True)\n",
    "test_data = pd.get_dummies(test_data, drop_first=True)\n",
    "\n",
    "# 转换为numpy数组并进行类型转换\n",
    "train_data = train_data.values.astype(np.float32)\n",
    "test_data = test_data.values.astype(np.float32)\n",
    "\n",
    "# 提取特征\n",
    "X = train_data\n",
    "X_test = test_data\n",
    "\n",
    "# from sklearn.utils import resample\n",
    "\n",
    "# # 根据类别标签分离出正例和负例\n",
    "# positive = train_data[y == 1]\n",
    "# negative = train_data[y == 0]\n",
    "\n",
    "# # 上采样正例\n",
    "# positive_upsampled = resample(\n",
    "#     positive,\n",
    "#     replace=True,  # 样本可以被多次抽样\n",
    "#     n_samples=len(negative),  # 将正例的数量增加到与负例相同\n",
    "#     random_state=42,\n",
    "# )  # 随机数生成器种子\n",
    "\n",
    "# # 合并上采样后的负例和原来的正例\n",
    "# upsampled = np.vstack([positive_upsampled, negative])\n",
    "# X_upsampled = upsampled[:, :-1]\n",
    "# y_upsampled = upsampled[:, -1]\n",
    "# X_upsampled = (X_upsampled - X_upsampled.mean(axis=0)) / X_upsampled.std(axis=0)\n",
    "\n",
    "# # 下采样负例\n",
    "# negative_downsampled = resample(\n",
    "#     negative,\n",
    "#     replace=False,  # 样本不能被多次抽样\n",
    "#     n_samples=len(positive),  # 将负例的数量减少到与正例相同\n",
    "#     random_state=42,\n",
    "# )  # 随机数生成器种子\n",
    "\n",
    "# # 合并下采样后的正例和原来的负例\n",
    "# downsampled = np.vstack([negative_downsampled, positive])\n",
    "# X_downsampled = downsampled[:, :-1]\n",
    "# y_downsampled = downsampled[:, -1]\n",
    "# X_downsampled = (X_downsampled - X_downsampled.mean(axis=0)) / X_downsampled.std(axis=0)\n",
    "\n",
    "# # 此时你可以选择使用 X_upsampled, y_upsampled 或 X_downsampled, y_downsampled 来进行模型的训练"
   ]
  },
  {
   "cell_type": "code",
   "execution_count": 2,
   "metadata": {},
   "outputs": [],
   "source": [
    "from sklearn import svm\n",
    "\n",
    "clf = svm.SVC(kernel=\"poly\", C=2.0, gamma=\"auto\")\n",
    "clf.fit(X, y)\n",
    "\n",
    "# y_pred = clf.predict(X_test)\n",
    "\n",
    "# from sklearn.metrics import accuracy_score\n",
    "\n",
    "# print(\"accuracy: \", accuracy_score(y_test, y_pred))"
   ]
  },
  {
   "cell_type": "code",
   "execution_count": null,
   "metadata": {},
   "outputs": [
    {
     "data": {
      "text/plain": [
       "{'fit_time': array([0.95518732, 1.14083266, 0.72142744, 0.75035501, 1.06036115]),\n",
       " 'score_time': array([0.04692197, 0.04592013, 0.04541206, 0.04633236, 0.04563975]),\n",
       " 'test_accuracy': array([0.88391376, 0.88225539, 0.87893864, 0.88440265, 0.88440265]),\n",
       " 'test_precision': array([0.53846154, 0.48275862, 0.42222222, 0.52941176, 0.54166667]),\n",
       " 'test_recall': array([0.06603774, 0.06603774, 0.08962264, 0.08530806, 0.06161137]),\n",
       " 'test_f1': array([0.11764706, 0.11618257, 0.14785992, 0.14693878, 0.1106383 ])}"
      ]
     },
     "execution_count": 7,
     "metadata": {},
     "output_type": "execute_result"
    }
   ],
   "source": [
    "from sklearn.model_selection import cross_validate\n",
    "from sklearn import metrics\n",
    "\n",
    "cross_validate(\n",
    "    clf, X_test, y_test, cv=5, scoring=[\"accuracy\", \"precision\", \"recall\", \"f1\"]\n",
    ")"
   ]
  },
  {
   "cell_type": "code",
   "execution_count": 5,
   "metadata": {},
   "outputs": [
    {
     "data": {
      "text/plain": [
       "{'fit_time': array([0.440377  , 0.43655038, 0.43436193, 0.43319225, 0.43302631]),\n",
       " 'score_time': array([0.01539373, 0.01505542, 0.01500082, 0.01624966, 0.0153048 ]),\n",
       " 'test_accuracy': array([0.90270868, 0.90049751, 0.89662797, 0.90707965, 0.89988938]),\n",
       " 'test_precision': array([0.640625  , 0.61267606, 0.59398496, 0.67768595, 0.61538462]),\n",
       " 'test_recall': array([0.38679245, 0.41037736, 0.37264151, 0.38862559, 0.37914692]),\n",
       " 'test_f1': array([0.48235294, 0.49152542, 0.45797101, 0.4939759 , 0.46920821])}"
      ]
     },
     "execution_count": 5,
     "metadata": {},
     "output_type": "execute_result"
    }
   ],
   "source": [
    "from sklearn.ensemble import AdaBoostClassifier\n",
    "from sklearn.model_selection import cross_validate\n",
    "\n",
    "clf = AdaBoostClassifier(\n",
    "    n_estimators=100,\n",
    "    random_state=0,\n",
    ")\n",
    "clf.fit(X, y)\n",
    "\n",
    "cross_validate(\n",
    "    clf, X_test, y_test, cv=5, scoring=[\"accuracy\", \"precision\", \"recall\", \"f1\"]\n",
    ")"
   ]
  }
 ],
 "metadata": {
  "kernelspec": {
   "display_name": "proj-dsa5101-ISSJI_1x-py3.9",
   "language": "python",
   "name": "python3"
  },
  "language_info": {
   "codemirror_mode": {
    "name": "ipython",
    "version": 3
   },
   "file_extension": ".py",
   "mimetype": "text/x-python",
   "name": "python",
   "nbconvert_exporter": "python",
   "pygments_lexer": "ipython3",
   "version": "3.9.17"
  },
  "orig_nbformat": 4
 },
 "nbformat": 4,
 "nbformat_minor": 2
}
